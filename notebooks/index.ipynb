{
 "cells": [
  {
   "cell_type": "markdown",
   "metadata": {},
   "source": [
    "# Notoma\n",
    "\n",
    "Write articles for your static gen blog in Notion.\n",
    "\n"
   ]
  },
  {
   "cell_type": "markdown",
   "metadata": {},
   "source": [
    "%METADATA%\n",
    "layout: default\n",
    "nav_order: 1\n",
    "title: Introduction"
   ]
  },
  {
   "cell_type": "markdown",
   "metadata": {},
   "source": [
    "<a href=\"https://codeclimate.com/github/nategadzi/notoma/maintainability\"><img src=\"https://api.codeclimate.com/v1/badges/70943357e5d2c54c153a/maintainability\" /></a>\n",
    "<a href=\"https://pypi.org/project/notoma/\"><img src=\"https://img.shields.io/pypi/v/notoma\" alt=\"pypi\" /></a>\n",
    "![Linters](https://github.com/nategadzi/notoma/workflows/Linters/badge.svg)"
   ]
  },
  {
   "cell_type": "markdown",
   "metadata": {},
   "source": [
    "- [Documentation website](https://nategadzi.github.io/notoma/)\n",
    "    - [Using the CLI](https://nategadzi.github.io/notoma/using-the-cli)\n",
    "    - [Contributing](https://nategadzi.github.io/notoma/contributing)\n",
    "    - [Supported Markdown Tags](https://nategadzi.github.io/notoma/supported-markdown-tags) "
   ]
  },
  {
   "cell_type": "markdown",
   "metadata": {},
   "source": [
    "---\n",
    "## Install"
   ]
  },
  {
   "cell_type": "markdown",
   "metadata": {},
   "source": [
    "Notoma is available via Pip or Homebrew: "
   ]
  },
  {
   "cell_type": "markdown",
   "metadata": {},
   "source": [
    "```bash\n",
    "# Installing with pip, use this if you plan using Notoma as a python library.\n",
    "pip install notoma\n",
    "```"
   ]
  },
  {
   "cell_type": "markdown",
   "metadata": {},
   "source": [
    "Installing with Homebrew on Mac OS."
   ]
  },
  {
   "cell_type": "markdown",
   "metadata": {},
   "source": [
    "```bash\n",
    "brew install nategadzi/notoma/notoma\n",
    "```"
   ]
  },
  {
   "cell_type": "markdown",
   "metadata": {},
   "source": [
    "---\n",
    "## What can you do with Notoma\n",
    "Notoma provides commands to: \n",
    "- Convert contents of your Notion Blog database to a bunch of Markdown files.\n",
    "- *Coming soon*: Watch Notion Blog database for updates and regenerate Markdown files on any updates.\n",
    "- *Coming soon*: Create a new Notion database for your Blog with all required fields."
   ]
  },
  {
   "cell_type": "markdown",
   "metadata": {},
   "source": [
    "Basic usage example: this command will convert only published posts from a Notion blog database to the `./posts/ directory`.\n",
    "\n",
    "```bash\n",
    "notoma convert --dest ./posts/\n",
    "```\n",
    "\n",
    "This example assumes that you have a `.env` config file with authentication and blog url parameters in it."
   ]
  },
  {
   "cell_type": "markdown",
   "metadata": {},
   "source": [
    "#### Authenticating in Notion\n",
    "\n",
    "Notoma uses an internal Notion API, and that, unfortunately, requires you to provide an authentication token `token_v2` that you can find in your notion.so cookes.\n",
    "\n",
    "You can provide `token_v2` option to every command line call, or store it in your environment, or [`.env` config file](.env.sample)."
   ]
  },
  {
   "cell_type": "markdown",
   "metadata": {},
   "source": [
    "---\n",
    "## Notion database structure\n",
    "Notoma has very few expectations about how your Notion is structured. Here's a [public example database](https://www.notion.so/respawn/7b46cea379bd4d45b68860c2fa35a2d4?v=b4609f6aae0d4fc1adc65a73f72d0e21).\n",
    "\n",
    "Notoma requires that your Notion blog database has the following **properties**:\n",
    "- **Published**: whether the article is published, or is still a draft\n",
    "- **Title**: Will be used to create a file name for that article's Markdown equivalent file. *Won't be used in the article itself.*\n",
    "\n",
    "Notoma tries to parse other properties and add them as front matter into the resulting Markdown articles: \n",
    "- **Published at** will be used as publicataion date for the article, if present.\n",
    "- **Categories** will be used as `categories` front matter key, so it's expected to be a **multiple choice** propery.\n"
   ]
  }
 ],
 "metadata": {
  "kernelspec": {
   "display_name": "Python 3",
   "language": "python",
   "name": "python3"
  },
  "language_info": {
   "codemirror_mode": {
    "name": "ipython",
    "version": 3
   },
   "file_extension": ".py",
   "mimetype": "text/x-python",
   "name": "python",
   "nbconvert_exporter": "python",
   "pygments_lexer": "ipython3",
   "version": "3.7.7"
  }
 },
 "nbformat": 4,
 "nbformat_minor": 4
}
